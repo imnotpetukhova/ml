{
 "cells": [
  {
   "cell_type": "code",
   "execution_count": 62,
   "id": "4fa6651b",
   "metadata": {},
   "outputs": [],
   "source": [
    "import torch\n",
    "import numpy as np\n",
    "from datasets import load_dataset\n",
    "from tqdm.auto import tqdm\n",
    "from transformers import AutoProcessor, CLIPModel, AutoTokenizer\n",
    "from sklearn.metrics import accuracy_score\n",
    "import matplotlib.pyplot as plt\n",
    "import seaborn as sns"
   ]
  },
  {
   "cell_type": "code",
   "execution_count": 80,
   "id": "12f8e9e7",
   "metadata": {
    "scrolled": true
   },
   "outputs": [],
   "source": [
    "device = \"cuda\" if torch.cuda.is_available() else \"cpu\"\n",
    "model = CLIPModel.from_pretrained(\"openai/clip-vit-large-patch14\").to(device)\n",
    "processor = AutoProcessor.from_pretrained(\"openai/clip-vit-large-patch14\")"
   ]
  },
  {
   "cell_type": "code",
   "execution_count": 81,
   "id": "c9f30e22",
   "metadata": {},
   "outputs": [],
   "source": [
    "imagenette = load_dataset(\n",
    "    'frgfm/imagenette',\n",
    "    '160px',\n",
    " split='validation',\n",
    " revision=\"4d512db\"\n",
    ")"
   ]
  },
  {
   "cell_type": "code",
   "execution_count": 82,
   "id": "5cda8e99",
   "metadata": {},
   "outputs": [
    {
     "name": "stdout",
     "output_type": "stream",
     "text": [
      "Class labels in dataset: ['tench', 'English springer', 'cassette player', 'chain saw', 'church', 'French horn', 'garbage truck', 'gas pump', 'golf ball', 'parachute']\n"
     ]
    }
   ],
   "source": [
    "labels = imagenette.features[\"label\"].names\n",
    "print(f\"Class labels in dataset: {labels}\")"
   ]
  },
  {
   "cell_type": "code",
   "execution_count": 83,
   "id": "754bc7e4",
   "metadata": {},
   "outputs": [
    {
     "data": {
      "application/vnd.jupyter.widget-view+json": {
       "model_id": "f53569ef8b644a16b0b259e6996658de",
       "version_major": 2,
       "version_minor": 0
      },
      "text/plain": [
       "  0%|          | 0/3925 [00:00<?, ?it/s]"
      ]
     },
     "metadata": {},
     "output_type": "display_data"
    }
   ],
   "source": [
    "selected_images = []\n",
    "selected_labels = []\n",
    "\n",
    "for example in tqdm(imagenette):\n",
    "    label = example[\"label\"]\n",
    "    selected_images.append(example[\"image\"])\n",
    "    selected_labels.append(label)"
   ]
  },
  {
   "cell_type": "code",
   "execution_count": 84,
   "id": "70fda0b1",
   "metadata": {},
   "outputs": [],
   "source": [
    "text_inputs = processor([f\"a photo of a {c}\" for c in labels], return_tensors=\"pt\", padding=True).to(device)"
   ]
  },
  {
   "cell_type": "code",
   "execution_count": 85,
   "id": "d3d4d8eb",
   "metadata": {},
   "outputs": [],
   "source": [
    "with torch.no_grad():\n",
    "    label_emb = model.get_text_features(input_ids=text_inputs['input_ids'], attention_mask=text_inputs['attention_mask'])\n",
    "    label_emb = label_emb.cpu().numpy()\n",
    "\n",
    "#label_emb = label_emb / np.linalg.norm(label_emb, axis=1)[:, np.newaxis]"
   ]
  },
  {
   "cell_type": "code",
   "execution_count": null,
   "id": "6bbaefae",
   "metadata": {},
   "outputs": [
    {
     "data": {
      "application/vnd.jupyter.widget-view+json": {
       "model_id": "35dfc3af1c184043a0bb917ede6bec17",
       "version_major": 2,
       "version_minor": 0
      },
      "text/plain": [
       "  0%|          | 0/79 [00:00<?, ?it/s]"
      ]
     },
     "metadata": {},
     "output_type": "display_data"
    }
   ],
   "source": [
    "all_similarities = []\n",
    "preds = []\n",
    "batch_size = 50\n",
    "\n",
    "for i in tqdm(range(0, len(selected_images), batch_size)):\n",
    "    i_end = min(i + batch_size, len(selected_images))\n",
    "    images = processor(\n",
    "        images=selected_images[i:i_end],\n",
    "        return_tensors='pt'\n",
    "    )['pixel_values'].to(device)\n",
    "\n",
    "    with torch.no_grad():\n",
    "        img_emb = model.get_image_features(images)\n",
    "        img_emb = img_emb.cpu().numpy()\n",
    "        \n",
    "    #img_emb = img_emb / np.linalg.norm(img_emb, axis=1)[:, np.newaxis]\n",
    "    \n",
    "    # Вычисление косинусного сходства\n",
    "    similarities = np.dot(img_emb, label_emb.T)\n",
    "    preds.extend(np.argmax(similarities, axis=1))\n",
    "    all_similarities.extend(similarities)"
   ]
  },
  {
   "cell_type": "code",
   "execution_count": 88,
   "id": "c0e13d9f",
   "metadata": {},
   "outputs": [],
   "source": [
    "all_similarities = np.array(all_similarities)"
   ]
  },
  {
   "cell_type": "code",
   "execution_count": 89,
   "id": "fb07b4af",
   "metadata": {},
   "outputs": [
    {
     "name": "stdout",
     "output_type": "stream",
     "text": [
      "\n",
      "Средние значения косинусного сходства для каждого класса:\n",
      "tench: 34.3483\n",
      "English springer: 30.5799\n",
      "cassette player: 35.5207\n",
      "chain saw: 39.4871\n",
      "church: 41.3656\n",
      "French horn: 36.2596\n",
      "garbage truck: 41.1660\n",
      "gas pump: 33.6668\n",
      "golf ball: 36.2639\n",
      "parachute: 41.5595\n"
     ]
    }
   ],
   "source": [
    "print(\"\\nСредние значения косинусного сходства для каждого класса:\")\n",
    "for i, label in enumerate(labels):\n",
    "    mean_similarity = np.mean(all_similarities[:, i])\n",
    "    print(f\"{label}: {mean_similarity:.4f}\")"
   ]
  },
  {
   "cell_type": "code",
   "execution_count": 110,
   "id": "65277c41",
   "metadata": {},
   "outputs": [
    {
     "name": "stdout",
     "output_type": "stream",
     "text": [
      "Zero-shot classification accuracy on Imagenette: 99.29%\n"
     ]
    }
   ],
   "source": [
    "accuracy = accuracy_score(selected_labels, preds)\n",
    "print(f\"Zero-shot classification accuracy on Imagenette: {accuracy * 100:.2f}%\")"
   ]
  },
  {
   "cell_type": "code",
   "execution_count": 126,
   "id": "8635f2a0",
   "metadata": {},
   "outputs": [
    {
     "name": "stdout",
     "output_type": "stream",
     "text": [
      "линь\n",
      "английский спрингер\n",
      "кассетный плеер\n",
      "цепная пила\n",
      "церковь\n",
      "валторна\n",
      "мусоровоз\n",
      "газовый насос\n",
      "мяч для гольфа\n",
      "парашют\n"
     ]
    }
   ],
   "source": [
    "from deep_translator import GoogleTranslator\n",
    "\n",
    "for elem in labels:\n",
    "    translated = GoogleTranslator(source='en', target='ru').translate(elem) \n",
    "    print(translated)# output -> Weiter so, du bist großartig"
   ]
  }
 ],
 "metadata": {
  "kernelspec": {
   "display_name": "Python 3 (ipykernel)",
   "language": "python",
   "name": "python3"
  },
  "language_info": {
   "codemirror_mode": {
    "name": "ipython",
    "version": 3
   },
   "file_extension": ".py",
   "mimetype": "text/x-python",
   "name": "python",
   "nbconvert_exporter": "python",
   "pygments_lexer": "ipython3",
   "version": "3.10.9"
  }
 },
 "nbformat": 4,
 "nbformat_minor": 5
}
